{
 "cells": [
  {
   "cell_type": "markdown",
   "id": "93dfb1e0-1161-4247-82c7-ac965914fb27",
   "metadata": {},
   "source": [
    "# **Module 2: Spatial Interpolation in Python**"
   ]
  },
  {
   "cell_type": "markdown",
   "id": "c5be08d1-931c-4f63-bd31-30666bce5e34",
   "metadata": {},
   "source": [
    "#### Data\n",
    "For this workshop, data are created and saved to the directory `./data-module-2/`.\n",
    "- `meuse.csv` -  is a data set comprising of  heavy metals measured in the top soil in a flood plain along the river Meuse (exported from `R` package `sp`).\n",
    "- `meuse_grid.csv` - regular grid covering the area of interest for interpolating Meuse observations.\n",
    "\n",
    "#### Software\n",
    "\n",
    "To execute the code you will need a Python environment with the packages imported below. The default environment does not have all required packages to execute this script. Therefore, run the following command beforehand to install `pyinterpolate`:\n",
    "- `pip install pyinterpolate --user`\n",
    "\n",
    "To learn more about the `pyinterpolate` library:\n",
    "- https://pyinterpolate.readthedocs.io/en/latest/index.html"
   ]
  },
  {
   "cell_type": "code",
   "execution_count": null,
   "id": "6d9a83e5-42ea-433d-8604-0e58281aca2f",
   "metadata": {},
   "outputs": [],
   "source": [
    "# general use packages\n",
    "import os\n",
    "import numpy as np\n",
    "import pandas as pd\n",
    "from sklearn.metrics import r2_score, mean_squared_error\n",
    "import math\n",
    "import matplotlib.pyplot as plt\n",
    "\n",
    "# geospatial packages\n",
    "import geopandas as gpd\n",
    "from shapely.geometry import MultiPoint\n",
    "from shapely.ops import voronoi_diagram, triangulate\n",
    "from pyinterpolate import inverse_distance_weighting\n",
    "from pyinterpolate import kriging, build_experimental_variogram, TheoreticalVariogram\n",
    "\n",
    "os.environ['PROJ_LIB'] = '/opt/conda/envs/user_default/share/proj'"
   ]
  },
  {
   "cell_type": "markdown",
   "id": "3445d355-d821-4cfe-b74b-e9de3a755ced",
   "metadata": {},
   "source": [
    "### **Explore input data**"
   ]
  },
  {
   "cell_type": "code",
   "execution_count": null,
   "id": "a9ad112a-dec4-4195-aa82-50b45d2c9c47",
   "metadata": {},
   "outputs": [],
   "source": [
    "meuse_df = pd.read_csv(\"./data-module-2/meuse.csv\", index_col=0)\n",
    "print (\"Dataset contains {} observations\".format(len(meuse_df)))\n",
    "meuse_df.head()"
   ]
  },
  {
   "cell_type": "code",
   "execution_count": null,
   "id": "b7669b7c-02a7-4cf9-9996-c6e383b7dd88",
   "metadata": {},
   "outputs": [],
   "source": [
    "meuse_gdf = gpd.GeoDataFrame(meuse_df, geometry=gpd.points_from_xy(\n",
    "    meuse_df.x, meuse_df.y), crs=\"epsg:28992\")\n",
    "meuse_gdf.head()"
   ]
  },
  {
   "cell_type": "code",
   "execution_count": null,
   "id": "7e27d0df-b411-47d0-b477-fa88b530b601",
   "metadata": {},
   "outputs": [],
   "source": [
    "meuse_grid_df = pd.read_csv(\"./data-module-2/meuse-grid.csv\", index_col = 0)\n",
    "meuse_grid_df.head()"
   ]
  },
  {
   "cell_type": "code",
   "execution_count": null,
   "id": "4eb452c8-53d2-4791-9082-b0e7d48c8ed7",
   "metadata": {},
   "outputs": [],
   "source": [
    "meuse_grid_gdf = gpd.GeoDataFrame(meuse_grid_df, geometry=gpd.points_from_xy(\n",
    "    meuse_grid_df.x, meuse_grid_df.y), crs=\"epsg:28992\")\n",
    "meuse_grid_gdf.head()"
   ]
  },
  {
   "cell_type": "code",
   "execution_count": null,
   "id": "67b87286-13ff-400f-9603-444a8debd41b",
   "metadata": {},
   "outputs": [],
   "source": [
    "fig, axs = plt.subplots(1,2, figsize=(8, 4), tight_layout=True)\n",
    "meuse_gdf.plot(ax=axs[0], column=\"zinc\", legend=True, cmap=\"YlOrBr\", edgecolor=\"grey\")\n",
    "meuse_grid_gdf.plot(ax=axs[1], markersize=2, facecolor=\"grey\", edgecolor=\"none\")"
   ]
  },
  {
   "cell_type": "markdown",
   "id": "dd2222c9-35a2-40ac-af83-bb5ada52c207",
   "metadata": {},
   "source": [
    "### **Delaunay triangulation and Voronoi diagram**"
   ]
  },
  {
   "cell_type": "markdown",
   "id": "866df567-f43d-410c-9930-c4d8e4ebfac4",
   "metadata": {},
   "source": [
    "Before exploring spatial interpolation from point observations to a regular grid (or a surface), we start by illustrating techniques to partition space around points to create vector surfaces.\n",
    "\n",
    "- **Delaunay triangulation** is a technique for creating nonoverlapping triangles from a dataset of points.\n",
    "- **Voronoi diagram** is constructed around each sampled point so all the space within a specific polygon is closest in distance to that sampled point (as compared to other sampled points)."
   ]
  },
  {
   "cell_type": "code",
   "execution_count": null,
   "id": "96274fa7-42dd-4941-9ce4-c5ca1bf54c88",
   "metadata": {},
   "outputs": [],
   "source": [
    "coordinates = MultiPoint(meuse_gdf[\"geometry\"].tolist())"
   ]
  },
  {
   "cell_type": "code",
   "execution_count": null,
   "id": "d8dc0a85-d40b-432c-a228-3efbe8f0627e",
   "metadata": {},
   "outputs": [],
   "source": [
    "delaunay_geom  = triangulate(coordinates)\n",
    "delaunay_gdf = gpd.GeoDataFrame(geometry=[geom for geom in delaunay_geom], crs=\"epsg:28992\")"
   ]
  },
  {
   "cell_type": "code",
   "execution_count": null,
   "id": "211c1740-6bb1-41fe-bc24-d81bacc108d4",
   "metadata": {},
   "outputs": [],
   "source": [
    "voronoi_geom = voronoi_diagram(coordinates)\n",
    "voronoi_gdf = gpd.GeoDataFrame(geometry=[geom for geom in list(voronoi_geom.geoms)], crs=\"epsg:28992\")"
   ]
  },
  {
   "cell_type": "code",
   "execution_count": null,
   "id": "95bf6e03-976a-4468-aabb-897308163d0d",
   "metadata": {},
   "outputs": [],
   "source": [
    "fig, axs = plt.subplots(1,2, figsize=(9, 5), tight_layout=True)\n",
    "\n",
    "delaunay_gdf.plot(ax=axs[0], edgecolor=\"silver\", color=\"beige\")\n",
    "meuse_gdf.plot(ax=axs[0], markersize=4, color=\"brown\")\n",
    "axs[0].set_xlim(meuse_gdf.total_bounds[0], meuse_gdf.total_bounds[2])\n",
    "axs[0].set_ylim(meuse_gdf.total_bounds[1], meuse_gdf.total_bounds[3])\n",
    "axs[0].set_title(\"Delaunay triangulation\", weight=\"bold\")\n",
    "\n",
    "voronoi_gdf.plot(ax=axs[1], edgecolor=\"silver\", color=\"beige\")\n",
    "meuse_gdf.plot(ax=axs[1], markersize=4, color=\"brown\")\n",
    "axs[1].set_xlim(meuse_gdf.total_bounds[0], meuse_gdf.total_bounds[2])\n",
    "axs[1].set_ylim(meuse_gdf.total_bounds[1], meuse_gdf.total_bounds[3])\n",
    "axs[1].set_title(\"Voronoi diagram\", weight=\"bold\")"
   ]
  },
  {
   "cell_type": "markdown",
   "id": "5451af23-1b66-4374-a232-1cb6c1237d47",
   "metadata": {},
   "source": [
    "### **Inverse Distance Weighting (IDW)**"
   ]
  },
  {
   "cell_type": "markdown",
   "id": "13c06073-2537-4fec-8ce7-e360ea3f7095",
   "metadata": {},
   "source": [
    "#### Modeling \n",
    "IDW Parameters:\n",
    "- **number of neighbours**: when using (-1), all known points will be used to estimate value at the unknown location.\n",
    "- **power** controls weight assigned to each known point. Larger power means stronger influence of the closest neighbors, but it decreases quickly.\n"
   ]
  },
  {
   "cell_type": "code",
   "execution_count": null,
   "id": "c98d5621-30d2-4259-9cf4-7a5114279a35",
   "metadata": {},
   "outputs": [],
   "source": [
    "known_points = meuse_df[[\"x\", \"y\", \"zinc\"]].to_numpy()"
   ]
  },
  {
   "cell_type": "code",
   "execution_count": null,
   "id": "8a97d232-4fb6-45f3-a094-9b0a6b501f52",
   "metadata": {},
   "outputs": [],
   "source": [
    "unknown_points = meuse_grid_df[[\"x\", \"y\"]].to_numpy()"
   ]
  },
  {
   "cell_type": "code",
   "execution_count": null,
   "id": "b9205f73-bea2-421f-9fe7-6ea8c2a8f734",
   "metadata": {},
   "outputs": [],
   "source": [
    "NUMBER_OF_NEIGHBOURS = -1\n",
    "IDW_POWER = 0.25\n",
    "\n",
    "idw_predictions = []\n",
    "for pt in unknown_points:\n",
    "    idw_result = inverse_distance_weighting(known_points, pt, NUMBER_OF_NEIGHBOURS,  IDW_POWER)\n",
    "    idw_predictions.append(idw_result)\n",
    "\n",
    "meuse_grid_gdf[\"zinc-pred-{}\".format(IDW_POWER)] = idw_predictions"
   ]
  },
  {
   "cell_type": "code",
   "execution_count": null,
   "id": "adb36f6b-ad4c-49f9-bbc7-c716291fbc5b",
   "metadata": {},
   "outputs": [],
   "source": [
    "IDW_POWER = 2\n",
    "\n",
    "idw_predictions = []\n",
    "for pt in unknown_points:\n",
    "    idw_result = inverse_distance_weighting(known_points, pt, NUMBER_OF_NEIGHBOURS,  IDW_POWER)\n",
    "    idw_predictions.append(idw_result)\n",
    "\n",
    "meuse_grid_gdf[\"zinc-pred-{}\".format(IDW_POWER)] = idw_predictions"
   ]
  },
  {
   "cell_type": "code",
   "execution_count": null,
   "id": "e2104477-042a-45b7-9cfa-58775948f317",
   "metadata": {},
   "outputs": [],
   "source": [
    "IDW_POWER = 16\n",
    "\n",
    "idw_predictions = []\n",
    "for pt in unknown_points:\n",
    "    idw_result = inverse_distance_weighting(known_points, pt, NUMBER_OF_NEIGHBOURS,  IDW_POWER)\n",
    "    idw_predictions.append(idw_result)\n",
    "\n",
    "meuse_grid_gdf[\"zinc-pred-{}\".format(IDW_POWER)] = idw_predictions"
   ]
  },
  {
   "cell_type": "code",
   "execution_count": null,
   "id": "bbde3b90-2938-40c3-9baf-68879012c4ed",
   "metadata": {},
   "outputs": [],
   "source": [
    "fig, axs = plt.subplots(1,3, figsize=(13,5))\n",
    "\n",
    "meuse_grid_gdf.plot(ax=axs[0], column=\"zinc-pred-0.25\", cmap=\"YlOrBr\", scheme=\"JenksCaspall\", legend=True, markersize=2)\n",
    "meuse_gdf.plot(ax=axs[0], edgecolor=\"grey\", facecolor=\"none\")\n",
    "axs[0].set_title(\"Power=0.25\", weight=\"bold\")\n",
    "\n",
    "meuse_grid_gdf.plot(ax=axs[1], column=\"zinc-pred-2\", cmap=\"YlOrBr\", scheme=\"JenksCaspall\", legend=True, markersize=2)\n",
    "meuse_gdf.plot(ax=axs[1], edgecolor=\"grey\", facecolor=\"none\")\n",
    "axs[1].set_title(\"Power=2\", weight=\"bold\")\n",
    "\n",
    "meuse_grid_gdf.plot(ax=axs[2], column=\"zinc-pred-16\", cmap=\"YlOrBr\", scheme=\"JenksCaspall\", legend=True, markersize=2)\n",
    "meuse_gdf.plot(ax=axs[2], edgecolor=\"grey\", facecolor=\"none\")\n",
    "axs[2].set_title(\"Power=16\", weight=\"bold\")"
   ]
  },
  {
   "cell_type": "markdown",
   "id": "acde80ef-3391-46a3-9859-f9756a64b48c",
   "metadata": {},
   "source": [
    "#### Accuracy Assesment\n",
    "Here we split the \"known\" points into a training and a test sets to evaluate model performance on real observations."
   ]
  },
  {
   "cell_type": "code",
   "execution_count": null,
   "id": "a8b5d756-621c-43b5-bec1-ef4480ad331d",
   "metadata": {},
   "outputs": [],
   "source": [
    "np.random.seed(101)\n",
    "training_set_ratio=0.5\n",
    "\n",
    "indexes_of_training_set = np.random.choice(range(len(known_points) - 1),\n",
    "                                           int(training_set_ratio * len(known_points)),\n",
    "                                           replace=False)\n",
    "train = known_points[indexes_of_training_set]\n",
    "test = np.delete(known_points, indexes_of_training_set, 0)"
   ]
  },
  {
   "cell_type": "code",
   "execution_count": null,
   "id": "2746efa9-425b-4ea0-b868-5f5c4d9e638e",
   "metadata": {
    "tags": []
   },
   "outputs": [],
   "source": [
    "NUMBER_OF_NEIGHBOURS = -1\n",
    "IDW_POWERS = [0.25, 2, 16]\n",
    "idw_rmse = {}\n",
    "r2 = {}\n",
    "\n",
    "for pw in IDW_POWERS:\n",
    "    results = []\n",
    "    for pt in test:\n",
    "        idw_result = inverse_distance_weighting(train, pt[:-1], NUMBER_OF_NEIGHBOURS, pw)\n",
    "        results.append(idw_result)\n",
    "    idw_rmse[pw] = np.sqrt(mean_squared_error(test[:, -1], results))\n",
    "    r2[pw] = r2_score(test[:, -1].tolist(), results)"
   ]
  },
  {
   "cell_type": "code",
   "execution_count": null,
   "id": "abeabe79-4b5f-42f1-b5c1-28cbefc9e40e",
   "metadata": {},
   "outputs": [],
   "source": [
    "for pw in IDW_POWERS:\n",
    "    print(f'Root Mean Squared Error of prediction with IDW of power {pw} is {idw_rmse[pw]:.2f}')\n",
    "    print(f'R2 with IDW of power {pw} is {r2[pw]:.2f}')"
   ]
  },
  {
   "cell_type": "markdown",
   "id": "0dbe28f8-1114-45be-adb2-df75b6244058",
   "metadata": {},
   "source": [
    "### **Krigging**"
   ]
  },
  {
   "cell_type": "markdown",
   "id": "dc0719ad-6c6a-47eb-9a1d-1e53a245f7d3",
   "metadata": {},
   "source": [
    "**Kriging** is a two-step process:\n",
    "- It creates the variogram to estimate spatial autocorrelation. Variogram illustrates the dissimilarity between point pairs (y-axis) along a rising distance (x-axis).\n",
    "- It predicts the unknown values."
   ]
  },
  {
   "cell_type": "markdown",
   "id": "8a5d4bf1-b994-472e-b30c-0623933ef868",
   "metadata": {},
   "source": [
    "#### Step 1: Build variogram\n",
    "\n",
    "Experimental Variogram statistics:\n",
    "- lag is a column with the lag center\n",
    "- semivariance is a column with a dissimilarity metric\n",
    "- covariance is a column with a similarity metric"
   ]
  },
  {
   "cell_type": "code",
   "execution_count": null,
   "id": "15e086f7-c922-4631-a261-ab0c38f8e6dc",
   "metadata": {},
   "outputs": [],
   "source": [
    "meuse_df[\"zinc\"].hist(figsize=(3,2), color=\"tan\")"
   ]
  },
  {
   "cell_type": "code",
   "execution_count": null,
   "id": "e5ea993b-a2a7-4b60-8a7f-a32cb9488ee1",
   "metadata": {},
   "outputs": [],
   "source": [
    "meuse_df[\"zinc-log\"] = np.log(meuse_df[\"zinc\"])\n",
    "meuse_df[\"zinc-log\"].hist(figsize=(3,2), color=\"tan\")"
   ]
  },
  {
   "cell_type": "code",
   "execution_count": null,
   "id": "3012d86d-29e4-4511-bb49-dd5294ed35e6",
   "metadata": {},
   "outputs": [],
   "source": [
    "known_points =  meuse_df[[\"x\", \"y\", \"zinc-log\"]].to_numpy()"
   ]
  },
  {
   "attachments": {
    "195129fc-d47a-4579-a757-2c8afa1c1691.png": {
     "image/png": "[encoded data removed]"
    }
   },
   "cell_type": "markdown",
   "id": "e88781f4-c683-47f3-acac-c8b1f411e0de",
   "metadata": {},
   "source": [
    "![image.png](attachment:195129fc-d47a-4579-a757-2c8afa1c1691.png)"
   ]
  },
  {
   "cell_type": "code",
   "execution_count": null,
   "id": "7dc53f62-4a8b-4bd1-9df4-a445835c215f",
   "metadata": {},
   "outputs": [],
   "source": [
    "STEP_SIZE = 100\n",
    "MAX_RANGE = 1600\n",
    "\n",
    "exp_semivar = build_experimental_variogram(known_points, step_size=STEP_SIZE, max_range=MAX_RANGE)\n",
    "\n",
    "print(exp_semivar)\n",
    "exp_semivar.plot()"
   ]
  },
  {
   "cell_type": "code",
   "execution_count": null,
   "id": "4e26a709-a8f9-48a1-aa18-e82f6acced13",
   "metadata": {},
   "outputs": [],
   "source": [
    "ALLOWED_MODELS = ['linear', 'circular', 'cubic', 'exponential', 'spherical']\n",
    "\n",
    "theor_semivar = TheoreticalVariogram()\n",
    "theor_semivar.autofit(experimental_variogram=exp_semivar,  model_types=ALLOWED_MODELS, max_nugget=0.8)\n",
    "\n",
    "print (theor_semivar)\n",
    "theor_semivar.plot()"
   ]
  },
  {
   "cell_type": "markdown",
   "id": "9b6f3fd8-1af3-49cd-9edf-5fde6881f968",
   "metadata": {},
   "source": [
    "#### Step 2: Make predictions"
   ]
  },
  {
   "cell_type": "code",
   "execution_count": null,
   "id": "6f4f45f1-eb03-4e6a-b386-723c41556d8a",
   "metadata": {},
   "outputs": [],
   "source": [
    "predictions = kriging(observations=known_points,\n",
    "                      theoretical_model=theor_semivar,\n",
    "                      points=unknown_points,\n",
    "                      how=\"ok\")"
   ]
  },
  {
   "cell_type": "code",
   "execution_count": null,
   "id": "5c9cd537-555e-42e6-b63e-201b9fd0a4c7",
   "metadata": {},
   "outputs": [],
   "source": [
    "meuse_grid_gdf[\"zinc-pred-ok-krigging\"] = predictions[:, 0]\n",
    "meuse_grid_gdf[\"varience-error-ok-krigging\"] = predictions[:, 1]"
   ]
  },
  {
   "cell_type": "code",
   "execution_count": null,
   "id": "b92b0eab-a387-4102-b6e6-1e27f8dfcb2a",
   "metadata": {
    "tags": []
   },
   "outputs": [],
   "source": [
    "fig, axs = plt.subplots(1,2, figsize=(9,5))\n",
    "\n",
    "meuse_grid_gdf.plot(ax=axs[0], column=\"zinc-pred-ok-krigging\", cmap=\"YlOrBr\",\n",
    "                    scheme=\"JenksCaspall\", legend=True, markersize=2)\n",
    "meuse_gdf.plot(ax=axs[0], edgecolor=\"grey\", facecolor=\"none\")\n",
    "axs[0].set_title(\"Ordinary Krigging Predictions (zinc-log)\", weight=\"bold\")\n",
    "\n",
    "meuse_grid_gdf.plot(ax=axs[1], column=\"varience-error-ok-krigging\", cmap=\"coolwarm\",\n",
    "                    scheme=\"JenksCaspall\", legend=True, markersize=2, alpha=0.5)\n",
    "meuse_gdf.plot(ax=axs[1], edgecolor=\"grey\", facecolor=\"none\")\n",
    "axs[1].set_title(\"Ordinary Krigging Variance Error\", weight=\"bold\")"
   ]
  },
  {
   "cell_type": "markdown",
   "id": "66835b5e-3344-44ed-ae00-b859f51c57a5",
   "metadata": {},
   "source": [
    "### **Exercises**\n",
    "#### Data\n",
    "For the exercies, data are created and saved to the directory `./data-module-2/`.\n",
    "- `mn-dem-points.shp` -  a dataset showing sampled DEM values for Minnesota based on USGS GMTED2010 dataset.\n",
    "- `mn-grid.shp` -  regular grid covering the area of interest for interpolating Minnesota DEM observations."
   ]
  },
  {
   "cell_type": "markdown",
   "id": "c9a32d26-8eb3-45d5-9773-90b1656d668e",
   "metadata": {},
   "source": [
    "**Question 1. Load the datasets `mn-dem-points.csv` and `mn-grid.shp` as `GeoDataFrames`. Set CRS of for your point dataset the same as CRS of the grid shapefile.**"
   ]
  },
  {
   "cell_type": "code",
   "execution_count": null,
   "id": "087c7fc1-ebc0-4689-9eb9-f2ab09f16f0c",
   "metadata": {},
   "outputs": [],
   "source": []
  },
  {
   "cell_type": "markdown",
   "id": "39569612-a2b7-43c5-80f3-b22c53f14ce2",
   "metadata": {},
   "source": [
    "**Question 2. Plot the two datasets on the same `figure` object. How does Elevation vary spatially across the study area?**"
   ]
  },
  {
   "cell_type": "code",
   "execution_count": null,
   "id": "f4f0a636-ebac-4302-8c61-3eb9c35ddf3b",
   "metadata": {},
   "outputs": [],
   "source": []
  },
  {
   "cell_type": "markdown",
   "id": "7d5e9af4-1a1c-4152-8c39-9902d4ffce2b",
   "metadata": {},
   "source": [
    "**Question 3. Prepare `unknown_points` and `known_points` arrays from the datasets.**"
   ]
  },
  {
   "cell_type": "code",
   "execution_count": null,
   "id": "0fdda110-ff98-423b-823f-490d412221c8",
   "metadata": {},
   "outputs": [],
   "source": []
  },
  {
   "cell_type": "markdown",
   "id": "8dbff3ca-cbd2-403f-9bd2-d6178d6f12e3",
   "metadata": {},
   "source": [
    "**Question 4. Create an IDW surface predictions with different `power` parameters (`2` and `8`). Use `8` neighbous for both cases. Vizualize and compare the output (use continuous color scheme). What differences do you notice?**"
   ]
  },
  {
   "cell_type": "code",
   "execution_count": null,
   "id": "288c05b6-d2e9-4b90-a7c5-fb40fc077a00",
   "metadata": {},
   "outputs": [],
   "source": []
  },
  {
   "cell_type": "markdown",
   "id": "d07b0466-56d4-434a-a287-52d0be73c26d",
   "metadata": {},
   "source": [
    "**Question 5. Define a maximum range of spatial dependency for your variogram. This parameter should be at most half of the maximum distance between the known points.\n",
    "Hint: use the function from: https://pyinterpolate.readthedocs.io/en/latest/api/distance/distance.html**"
   ]
  },
  {
   "cell_type": "code",
   "execution_count": null,
   "id": "d989e63f-7ece-41f1-8223-4b8a937204a0",
   "metadata": {},
   "outputs": [],
   "source": []
  },
  {
   "cell_type": "markdown",
   "id": "951d56a2-4afc-417c-80ed-151b7d5b42d3",
   "metadata": {},
   "source": [
    "**Question 6. Create an experimental variogram and then use `autofit.()` to produce a theoretical model.**"
   ]
  },
  {
   "cell_type": "code",
   "execution_count": null,
   "id": "6d14d4a6-1736-4e47-844a-8710224ef7c6",
   "metadata": {},
   "outputs": [],
   "source": []
  },
  {
   "cell_type": "markdown",
   "id": "79ef96c9-cede-4f09-81ea-7fb0dabe593a",
   "metadata": {},
   "source": [
    "**Question 7. Produce a krigging output with Oridinary Krigging method. Plot the output along with variance errors.**"
   ]
  },
  {
   "cell_type": "code",
   "execution_count": null,
   "id": "2fced036-9595-4fcd-8ece-e39af6869493",
   "metadata": {},
   "outputs": [],
   "source": []
  },
  {
   "cell_type": "markdown",
   "id": "12de7cbf-4fc2-452a-8e3f-2448ad757578",
   "metadata": {},
   "source": [
    "### **Additional Resources**\n",
    "\n",
    "**Alternative Python libraries:**\n",
    "- https://geostat-framework.readthedocs.io/projects/pykrige/en/stable/index.html\n",
    "- https://unidata.github.io/MetPy/latest/index.html"
   ]
  },
  {
   "cell_type": "code",
   "execution_count": null,
   "id": "ec494b49-aa9b-4b38-8814-d219905c0fa9",
   "metadata": {},
   "outputs": [],
   "source": []
  }
 ],
 "metadata": {
  "kernelspec": {
   "display_name": "Python 3 (ipykernel)",
   "language": "python",
   "name": "python3"
  },
  "language_info": {
   "codemirror_mode": {
    "name": "ipython",
    "version": 3
   },
   "file_extension": ".py",
   "mimetype": "text/x-python",
   "name": "python",
   "nbconvert_exporter": "python",
   "pygments_lexer": "ipython3",
   "version": "3.11.5"
  }
 },
 "nbformat": 4,
 "nbformat_minor": 5
}
