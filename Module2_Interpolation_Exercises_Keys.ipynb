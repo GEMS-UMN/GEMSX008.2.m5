{
 "cells": [
  {
   "cell_type": "markdown",
   "id": "46600604-8494-47ef-9d85-e13d9a7428fd",
   "metadata": {},
   "source": [
    "# **Module 2: Spatial Interpolation in Python**"
   ]
  },
  {
   "cell_type": "markdown",
   "id": "4ae4842b-d772-48a1-beb7-849918a66272",
   "metadata": {},
   "source": [
    "### **Exercises**\n",
    "#### Data\n",
    "For the exercies, data are created and saved to the directory `./data-module-2/`.\n",
    "- `mn-dem-points.shp` -  a dataset showing sampled DEM values for Minnesota based on USGS GMTED2010 dataset.\n",
    "- `mn-grid.shp` -  regular grid covering the area of interest for interpolating Minnesota DEM observations."
   ]
  },
  {
   "cell_type": "code",
   "execution_count": null,
   "id": "49e93c2d-d4e3-41cf-9fa6-64e3ff6301ff",
   "metadata": {},
   "outputs": [],
   "source": [
    "# general use packages\n",
    "import os\n",
    "import numpy as np\n",
    "import pandas as pd\n",
    "from sklearn.metrics import r2_score\n",
    "import math\n",
    "import matplotlib.pyplot as plt\n",
    "\n",
    "# geospatial packages\n",
    "import geopandas as gpd\n",
    "from shapely.geometry import MultiPoint\n",
    "from shapely.ops import voronoi_diagram, triangulate\n",
    "from pyinterpolate import inverse_distance_weighting\n",
    "from pyinterpolate import kriging, build_experimental_variogram, TheoreticalVariogram\n",
    "\n",
    "os.environ['PROJ_LIB'] = '/opt/conda/envs/user_default/share/proj'"
   ]
  },
  {
   "cell_type": "markdown",
   "id": "41e029b5-da54-4f5e-98e3-3e1d40ed9c3b",
   "metadata": {},
   "source": [
    "**Question 1. Load the datasets `mn-dem-points.csv` and `mn-grid.shp` as `GeoDataFrames`. Set CRS of for your point dataset the same as CRS of the grid shapefile.**"
   ]
  },
  {
   "cell_type": "code",
   "execution_count": null,
   "id": "97d99019-f4de-456a-8a9e-85f8f648ea1d",
   "metadata": {},
   "outputs": [],
   "source": [
    "grid = gpd.read_file(\"./data-module-2/mn-grid.shp\")\n",
    "print (\"CRS of the unknown points is {}\".format(grid.crs))"
   ]
  },
  {
   "cell_type": "code",
   "execution_count": null,
   "id": "37357a2f-292e-4b56-958d-86322d770dfa",
   "metadata": {},
   "outputs": [],
   "source": [
    "samples_df = pd.read_csv(\"./data-module-2/mn-dem-points.csv\")\n",
    "samples = gpd.GeoDataFrame(samples_df, geometry=gpd.points_from_xy(samples_df.X, samples_df.Y), crs=grid.crs)\n",
    "print (\"CRS of sampled points is {}\".format(samples.crs))"
   ]
  },
  {
   "cell_type": "markdown",
   "id": "69ffe891-a6c0-4229-be25-316af4a1d22a",
   "metadata": {},
   "source": [
    "**Question 2. Plot the two datasets on the same `figure` object. How does Elevation vary spatially across the study area?**"
   ]
  },
  {
   "cell_type": "code",
   "execution_count": null,
   "id": "b9a5a9c6-fd47-43d6-a993-71c69ac6cfe9",
   "metadata": {},
   "outputs": [],
   "source": [
    "fig, ax = plt.subplots(figsize=(10,6))\n",
    "\n",
    "grid.plot(ax=ax, markersize=2, facecolor=\"grey\", edgecolor=\"none\")\n",
    "samples.plot(ax=ax, column=\"DEM\", cmap=\"terrain\", legend=True, scheme=\"JenksCaspall\", markersize=8)"
   ]
  },
  {
   "cell_type": "markdown",
   "id": "37bc5426-cdb3-487b-a3ce-f20894daab5f",
   "metadata": {},
   "source": [
    "**Question 3. Prepare `unknown_points` and `known_points` arrays from the datasets.**"
   ]
  },
  {
   "cell_type": "code",
   "execution_count": null,
   "id": "0021cb67-7d59-4916-b129-58ff6c9ca9be",
   "metadata": {},
   "outputs": [],
   "source": [
    "known_points = samples[[\"X\", \"Y\", \"DEM\"]].to_numpy()\n",
    "unknown_points = grid[[\"x\", \"y\"]].to_numpy()"
   ]
  },
  {
   "cell_type": "markdown",
   "id": "267b4d14-095a-428d-9193-17e93cd74296",
   "metadata": {},
   "source": [
    "**Question 4. Create an IDW surface predictions with different `power` parameters (`2` and `8`). Use `8` neighbous for both cases. Vizualize and compare the output (use continuous color scheme). What differences do you notice?**"
   ]
  },
  {
   "cell_type": "code",
   "execution_count": null,
   "id": "9ef8e73a-c2f7-450f-905f-c799c0259796",
   "metadata": {},
   "outputs": [],
   "source": [
    "NUMBER_OF_NEIGHBOURS = 8\n",
    "IDW_POWER = 2\n",
    "\n",
    "idw_predictions = []\n",
    "for pt in unknown_points:\n",
    "    idw_result = inverse_distance_weighting(known_points, pt, NUMBER_OF_NEIGHBOURS,  IDW_POWER)\n",
    "    idw_predictions.append(idw_result)\n",
    "\n",
    "grid[\"dem-pred-{}\".format(IDW_POWER)] = idw_predictions"
   ]
  },
  {
   "cell_type": "code",
   "execution_count": null,
   "id": "aa0ab345-6c32-4b5c-9abf-41e1fe09c595",
   "metadata": {},
   "outputs": [],
   "source": [
    "NUMBER_OF_NEIGHBOURS = 8\n",
    "IDW_POWER = 8\n",
    "\n",
    "idw_predictions = []\n",
    "for pt in unknown_points:\n",
    "    idw_result = inverse_distance_weighting(known_points, pt, NUMBER_OF_NEIGHBOURS,  IDW_POWER)\n",
    "    idw_predictions.append(idw_result)\n",
    "\n",
    "grid[\"dem-pred-{}\".format(IDW_POWER)] = idw_predictions"
   ]
  },
  {
   "cell_type": "code",
   "execution_count": null,
   "id": "0dd7a97d-3d1f-4cf7-b65d-2a534da18ab9",
   "metadata": {},
   "outputs": [],
   "source": [
    "fig, axs = plt.subplots(1,2, figsize=(12,6), tight_layout=True)\n",
    "\n",
    "grid.plot(ax=axs[0], column=\"dem-pred-2\", cmap=\"terrain\", legend=True, markersize=3)\n",
    "axs[0].set_title(\"Power=2\", weight=\"bold\")\n",
    "\n",
    "grid.plot(ax=axs[1], column=\"dem-pred-8\", cmap=\"terrain\", legend=True, markersize=3)\n",
    "axs[1].set_title(\"Power=8\", weight=\"bold\")"
   ]
  },
  {
   "cell_type": "markdown",
   "id": "2c76b778-4825-431e-8dc9-a000f4f8f7ec",
   "metadata": {},
   "source": [
    "**Question 5. Define a maximum range of spatial dependency for your variogram. This parameter should be at most half of the maximum distance between the known points.\n",
    "Hint: use the function from: https://pyinterpolate.readthedocs.io/en/latest/api/distance/distance.html**"
   ]
  },
  {
   "cell_type": "code",
   "execution_count": null,
   "id": "15cb7cae-b94d-4f28-aca9-5903084fe150",
   "metadata": {},
   "outputs": [],
   "source": [
    "from pyinterpolate import calc_point_to_point_distance\n",
    "distances = calc_point_to_point_distance(known_points)\n",
    "print (np.max(distances) / 2)"
   ]
  },
  {
   "cell_type": "markdown",
   "id": "4820b310-5e57-41bc-a6de-b30e6f5f1677",
   "metadata": {},
   "source": [
    "**Question 6. Create an experimental variogram and then use `autofit.()` to produce a theoretical model.**"
   ]
  },
  {
   "cell_type": "code",
   "execution_count": null,
   "id": "f9395e28-d4b6-4a2d-8a5b-3f40b9496c76",
   "metadata": {},
   "outputs": [],
   "source": [
    "STEP_SIZE = 10000\n",
    "MAX_RANGE = 350000\n",
    "\n",
    "exp_semivar = build_experimental_variogram(known_points, step_size=STEP_SIZE, max_range=MAX_RANGE)\n",
    "print(exp_semivar)\n",
    "exp_semivar.plot(plot_covariance=True)"
   ]
  },
  {
   "cell_type": "code",
   "execution_count": null,
   "id": "3990ee73-9cb5-495d-bcba-b1f0c5c1ff5e",
   "metadata": {},
   "outputs": [],
   "source": [
    "theor_semivar = TheoreticalVariogram()\n",
    "theor_semivar.autofit(experimental_variogram=exp_semivar)\n",
    "print (theor_semivar)\n",
    "theor_semivar.plot()"
   ]
  },
  {
   "cell_type": "markdown",
   "id": "120d3282-95bf-430e-bb3c-f2cd713fef31",
   "metadata": {},
   "source": [
    "**Question 7. Produce a krigging output with Oridinary Krigging method. Plot the output along with variance errors.**"
   ]
  },
  {
   "cell_type": "code",
   "execution_count": null,
   "id": "23ab368f-3177-4d64-86dc-584c4c2a6c4d",
   "metadata": {},
   "outputs": [],
   "source": [
    "predictions = kriging(observations=known_points, theoretical_model=theor_semivar, points=unknown_points, how=\"ok\")"
   ]
  },
  {
   "cell_type": "code",
   "execution_count": null,
   "id": "657eed1f-5ce9-4ac3-bf52-12f0e89c0859",
   "metadata": {},
   "outputs": [],
   "source": [
    "grid[\"dem-pred-ok-krigging\"] = predictions[:, 0]\n",
    "grid[\"varience-error-ok-krigging\"] = predictions[:, 1]"
   ]
  },
  {
   "cell_type": "code",
   "execution_count": null,
   "id": "cc9c89d0-dd48-4a0a-a6de-3fc3f5e300ef",
   "metadata": {},
   "outputs": [],
   "source": [
    "fig, axs = plt.subplots(1,2, figsize=(12,6), tight_layout=True)\n",
    "\n",
    "grid.plot(ax=axs[0], column=\"dem-pred-ok-krigging\", cmap=\"terrain\", legend=True, markersize=2)\n",
    "samples.plot(ax=axs[0], edgecolor=\"grey\", facecolor=\"none\")\n",
    "axs[0].set_title(\"Ordinary Krigging Predictions (DEM)\", weight=\"bold\")\n",
    "\n",
    "grid.plot(ax=axs[1], column=\"varience-error-ok-krigging\", cmap=\"coolwarm\", legend=True, markersize=2, alpha=0.5)\n",
    "samples.plot(ax=axs[1], edgecolor=\"grey\", facecolor=\"none\")\n",
    "axs[1].set_title(\"Ordinary Krigging Variance Error\", weight=\"bold\")"
   ]
  },
  {
   "cell_type": "code",
   "execution_count": null,
   "id": "34c54a9f-65fd-40cf-b58e-29b688c5e4bc",
   "metadata": {},
   "outputs": [],
   "source": []
  }
 ],
 "metadata": {
  "kernelspec": {
   "display_name": "Python (my_new_env)",
   "language": "python",
   "name": "my_new_env"
  },
  "language_info": {
   "codemirror_mode": {
    "name": "ipython",
    "version": 3
   },
   "file_extension": ".py",
   "mimetype": "text/x-python",
   "name": "python",
   "nbconvert_exporter": "python",
   "pygments_lexer": "ipython3",
   "version": "3.11.5"
  }
 },
 "nbformat": 4,
 "nbformat_minor": 5
}
